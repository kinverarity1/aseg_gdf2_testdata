{
 "cells": [
  {
   "cell_type": "code",
   "execution_count": 1,
   "metadata": {},
   "outputs": [],
   "source": [
    "import aseg_gdf2"
   ]
  },
  {
   "cell_type": "code",
   "execution_count": 8,
   "metadata": {},
   "outputs": [],
   "source": [
    "gdf = aseg_gdf2.read(r\"C:\\Users\\kinve\\code\\aseg_gdf2_testdata\\duplicate_data\\GA1286_Waveforms.dfn\")"
   ]
  },
  {
   "cell_type": "code",
   "execution_count": 15,
   "metadata": {},
   "outputs": [
    {
     "name": "stdout",
     "output_type": "stream",
     "text": [
      "DEFN 1 ST=RECD,RT=;FLTNUM:F10.1:NAME=FlightNumber\n",
      "DEFN 2 ST=RECD,RT=;Rx_Voltage:F10.5:NULL=-99.99999,UNIT=Volt,NAME=Rx_Voltage\n",
      "DEFN 3 ST=RECD,RT=;FLTNUM:I6:NULL=-9999,NAME=Flight\n",
      "DEFN 4 ST=RECD,RT=;Time:F10.4:NULL=-999.9999,UNIT=msec,NAME=Time\n",
      "DEFN 5 ST=RECD,RT=;Tx_Current:F13.5:NULL=-99999.99999,UNIT=Amp,NAME=Tx_Current;END DEFN\n",
      "\n"
     ]
    }
   ],
   "source": [
    "print(gdf.dfn_contents)"
   ]
  },
  {
   "cell_type": "code",
   "execution_count": 16,
   "metadata": {},
   "outputs": [],
   "source": [
    "def find_duplicate_columns(gdf):\n",
    "    counts = {k: 0 for k in gdf.column_names()}\n",
    "    for k in gdf.column_names():\n",
    "        counts[k] += 1\n",
    "    return {k: c for k, c in counts.items() if c > 1}"
   ]
  },
  {
   "cell_type": "code",
   "execution_count": 17,
   "metadata": {},
   "outputs": [
    {
     "data": {
      "text/plain": [
       "{}"
      ]
     },
     "execution_count": 17,
     "metadata": {},
     "output_type": "execute_result"
    }
   ],
   "source": [
    "find_duplicate_columns(gdf)"
   ]
  },
  {
   "cell_type": "code",
   "execution_count": 18,
   "metadata": {},
   "outputs": [],
   "source": [
    "for dup_name in find_duplicate_columns(gdf):\n",
    "    dup_count = 1\n",
    "    for i, field in enumerate(gdf.record_types[\"\"][\"fields\"]):\n",
    "        if field[\"name\"] == dup_name:\n",
    "            new_column_name = f\"{dup_name}__{dup_count}\"\n",
    "            gdf.record_types[\"\"][\"fields\"][i][\"name\"] = new_column_name\n",
    "            dup_count += 1"
   ]
  },
  {
   "cell_type": "code",
   "execution_count": 19,
   "metadata": {},
   "outputs": [
    {
     "data": {
      "text/plain": [
       "{}"
      ]
     },
     "execution_count": 19,
     "metadata": {},
     "output_type": "execute_result"
    }
   ],
   "source": [
    "find_duplicate_columns(gdf)"
   ]
  },
  {
   "cell_type": "code",
   "execution_count": 20,
   "metadata": {},
   "outputs": [
    {
     "data": {
      "text/html": [
       "<div>\n",
       "<style scoped>\n",
       "    .dataframe tbody tr th:only-of-type {\n",
       "        vertical-align: middle;\n",
       "    }\n",
       "\n",
       "    .dataframe tbody tr th {\n",
       "        vertical-align: top;\n",
       "    }\n",
       "\n",
       "    .dataframe thead th {\n",
       "        text-align: right;\n",
       "    }\n",
       "</style>\n",
       "<table border=\"1\" class=\"dataframe\">\n",
       "  <thead>\n",
       "    <tr style=\"text-align: right;\">\n",
       "      <th></th>\n",
       "      <th>FLTNUM__1</th>\n",
       "      <th>Rx_Voltage</th>\n",
       "      <th>FLTNUM__2</th>\n",
       "      <th>Time</th>\n",
       "      <th>Tx_Current</th>\n",
       "    </tr>\n",
       "  </thead>\n",
       "  <tbody>\n",
       "    <tr>\n",
       "      <th>0</th>\n",
       "      <td>1.0</td>\n",
       "      <td>-0.0</td>\n",
       "      <td>1</td>\n",
       "      <td>0.0052</td>\n",
       "      <td>0.00176</td>\n",
       "    </tr>\n",
       "    <tr>\n",
       "      <th>1</th>\n",
       "      <td>1.0</td>\n",
       "      <td>-0.0</td>\n",
       "      <td>1</td>\n",
       "      <td>0.0104</td>\n",
       "      <td>0.00176</td>\n",
       "    </tr>\n",
       "    <tr>\n",
       "      <th>2</th>\n",
       "      <td>1.0</td>\n",
       "      <td>-0.0</td>\n",
       "      <td>1</td>\n",
       "      <td>0.0156</td>\n",
       "      <td>0.00176</td>\n",
       "    </tr>\n",
       "    <tr>\n",
       "      <th>3</th>\n",
       "      <td>1.0</td>\n",
       "      <td>-0.0</td>\n",
       "      <td>1</td>\n",
       "      <td>0.0208</td>\n",
       "      <td>0.00176</td>\n",
       "    </tr>\n",
       "    <tr>\n",
       "      <th>4</th>\n",
       "      <td>1.0</td>\n",
       "      <td>-0.0</td>\n",
       "      <td>1</td>\n",
       "      <td>0.0260</td>\n",
       "      <td>0.00176</td>\n",
       "    </tr>\n",
       "    <tr>\n",
       "      <th>...</th>\n",
       "      <td>...</td>\n",
       "      <td>...</td>\n",
       "      <td>...</td>\n",
       "      <td>...</td>\n",
       "      <td>...</td>\n",
       "    </tr>\n",
       "    <tr>\n",
       "      <th>23035</th>\n",
       "      <td>2.0</td>\n",
       "      <td>-0.0</td>\n",
       "      <td>2</td>\n",
       "      <td>59.9740</td>\n",
       "      <td>-0.00170</td>\n",
       "    </tr>\n",
       "    <tr>\n",
       "      <th>23036</th>\n",
       "      <td>2.0</td>\n",
       "      <td>-0.0</td>\n",
       "      <td>2</td>\n",
       "      <td>59.9792</td>\n",
       "      <td>-0.00170</td>\n",
       "    </tr>\n",
       "    <tr>\n",
       "      <th>23037</th>\n",
       "      <td>2.0</td>\n",
       "      <td>-0.0</td>\n",
       "      <td>2</td>\n",
       "      <td>59.9844</td>\n",
       "      <td>-0.00170</td>\n",
       "    </tr>\n",
       "    <tr>\n",
       "      <th>23038</th>\n",
       "      <td>2.0</td>\n",
       "      <td>-0.0</td>\n",
       "      <td>2</td>\n",
       "      <td>59.9896</td>\n",
       "      <td>-0.00170</td>\n",
       "    </tr>\n",
       "    <tr>\n",
       "      <th>23039</th>\n",
       "      <td>2.0</td>\n",
       "      <td>-0.0</td>\n",
       "      <td>2</td>\n",
       "      <td>59.9948</td>\n",
       "      <td>-0.00170</td>\n",
       "    </tr>\n",
       "  </tbody>\n",
       "</table>\n",
       "<p>23040 rows × 5 columns</p>\n",
       "</div>"
      ],
      "text/plain": [
       "       FLTNUM__1  Rx_Voltage  FLTNUM__2     Time  Tx_Current\n",
       "0            1.0        -0.0          1   0.0052     0.00176\n",
       "1            1.0        -0.0          1   0.0104     0.00176\n",
       "2            1.0        -0.0          1   0.0156     0.00176\n",
       "3            1.0        -0.0          1   0.0208     0.00176\n",
       "4            1.0        -0.0          1   0.0260     0.00176\n",
       "...          ...         ...        ...      ...         ...\n",
       "23035        2.0        -0.0          2  59.9740    -0.00170\n",
       "23036        2.0        -0.0          2  59.9792    -0.00170\n",
       "23037        2.0        -0.0          2  59.9844    -0.00170\n",
       "23038        2.0        -0.0          2  59.9896    -0.00170\n",
       "23039        2.0        -0.0          2  59.9948    -0.00170\n",
       "\n",
       "[23040 rows x 5 columns]"
      ]
     },
     "execution_count": 20,
     "metadata": {},
     "output_type": "execute_result"
    }
   ],
   "source": [
    "gdf.df()"
   ]
  },
  {
   "cell_type": "code",
   "execution_count": null,
   "metadata": {},
   "outputs": [],
   "source": []
  }
 ],
 "metadata": {
  "kernelspec": {
   "display_name": "Python 3",
   "language": "python",
   "name": "python3"
  },
  "language_info": {
   "codemirror_mode": {
    "name": "ipython",
    "version": 3
   },
   "file_extension": ".py",
   "mimetype": "text/x-python",
   "name": "python",
   "nbconvert_exporter": "python",
   "pygments_lexer": "ipython3",
   "version": "3.7.5"
  }
 },
 "nbformat": 4,
 "nbformat_minor": 2
}
